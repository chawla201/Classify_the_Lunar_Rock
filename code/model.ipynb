{
  "nbformat": 4,
  "nbformat_minor": 0,
  "metadata": {
    "colab": {
      "name": "lunar.ipynb",
      "provenance": [],
      "collapsed_sections": [],
      "mount_file_id": "1kF_iGZTfzYjc74mpoel7C3UisHdLCan0",
      "authorship_tag": "ABX9TyPHFpAbfNLuhYLoorrDSGaR"
    },
    "kernelspec": {
      "name": "python3",
      "display_name": "Python 3"
    },
    "accelerator": "GPU"
  },
  "cells": [
    {
      "cell_type": "code",
      "metadata": {
        "id": "5fYdsMVWeck7",
        "colab_type": "code",
        "colab": {}
      },
      "source": [
        "%tensorflow_version 2.x\n",
        "import tensorflow as tf\n",
        "device_name = tf.test.gpu_device_name()\n",
        "if device_name != '/device:GPU:0':\n",
        "  raise SystemError('GPU device not found')\n",
        "print('Found GPU at: {}'.format(device_name))"
      ],
      "execution_count": 0,
      "outputs": []
    },
    {
      "cell_type": "code",
      "metadata": {
        "id": "fdKfjZsm-Y41",
        "colab_type": "code",
        "colab": {}
      },
      "source": [
        "from google.colab import drive\n",
        "drive.mount('/gdrive')"
      ],
      "execution_count": 0,
      "outputs": []
    },
    {
      "cell_type": "code",
      "metadata": {
        "id": "WR9YAKpEKkeU",
        "colab_type": "code",
        "colab": {}
      },
      "source": [
        "import numpy as np\n",
        "import random\n",
        "import os\n",
        "from shutil import copyfile\n",
        "import shutil\n",
        "import matplotlib.pyplot as plt "
      ],
      "execution_count": 0,
      "outputs": []
    },
    {
      "cell_type": "code",
      "metadata": {
        "id": "NPF5DcVTNKjM",
        "colab_type": "code",
        "colab": {}
      },
      "source": [
        "print(len(os.listdir('/gdrive/My Drive/lunar/DataSet/data/Large')))\n",
        "print(len(os.listdir('/gdrive/My Drive/lunar/DataSet/data/Small')))"
      ],
      "execution_count": 0,
      "outputs": []
    },
    {
      "cell_type": "code",
      "metadata": {
        "id": "cWsfHxtWZOHB",
        "colab_type": "code",
        "colab": {}
      },
      "source": [
        "try:\n",
        "  os.mkdir('/gdrive/My Drive/lunar/DataSet/train')\n",
        "  os.mkdir('/gdrive/My Drive/lunar/DataSet/test')\n",
        "  os.mkdir('/gdrive/My Drive/lunar/DataSet/train/large')\n",
        "  os.mkdir('/gdrive/My Drive/lunar/DataSet/train/small')\n",
        "  os.mkdir('/gdrive/My Drive/lunar/DataSet/test/large')\n",
        "  os.mkdir('/gdrive/My Drive/lunar/DataSet/test/small')\n",
        "except:\n",
        "  pass"
      ],
      "execution_count": 0,
      "outputs": []
    },
    {
      "cell_type": "code",
      "metadata": {
        "id": "ctoR424IaGs_",
        "colab_type": "code",
        "colab": {}
      },
      "source": [
        "def split_data(SOURCE, TRAINING, TESTING, SPLIT_SIZE):\n",
        "    files = []\n",
        "    for filename in os.listdir(SOURCE):     \n",
        "        file = SOURCE + filename\n",
        "        if os.path.getsize(file) > 0:\n",
        "            files.append(filename)\n",
        "        else:\n",
        "            print(filename + \" is zero length, so ignoring.\")\n",
        "    training_length = int(len(files) * SPLIT_SIZE)\n",
        "    testing_length = int(len(files) - training_length)\n",
        "    shuffled_set = random.sample(files, len(files))\n",
        "    training_set = shuffled_set[0:training_length]\n",
        "    testing_set = shuffled_set[:testing_length]\n",
        "    for filename in training_set:\n",
        "        this_file = SOURCE + filename\n",
        "        destination = TRAINING + filename\n",
        "        copyfile(this_file, destination)\n",
        "    for filename in testing_set:\n",
        "        this_file = SOURCE + filename\n",
        "        destination = TESTING + filename\n",
        "        copyfile(this_file, destination)"
      ],
      "execution_count": 0,
      "outputs": []
    },
    {
      "cell_type": "code",
      "metadata": {
        "id": "YwND7Q4OamdV",
        "colab_type": "code",
        "colab": {}
      },
      "source": [
        "source_large= '/gdrive/My Drive/lunar/DataSet/data/Large/'\n",
        "source_small= '/gdrive/My Drive/lunar/DataSet/data/Small/'\n",
        "dest_train_large= '/gdrive/My Drive/lunar/DataSet/train/large/'\n",
        "dest_train_small= '/gdrive/My Drive/lunar/DataSet/train/small'\n",
        "dest_test_large= '/gdrive/My Drive/lunar/DataSet/test/large/'\n",
        "dest_test_small= '/gdrive/My Drive/lunar/DataSet/test/small'\n",
        "split= 0.9"
      ],
      "execution_count": 0,
      "outputs": []
    },
    {
      "cell_type": "code",
      "metadata": {
        "id": "7P0ISZxAcBCI",
        "colab_type": "code",
        "colab": {}
      },
      "source": [
        "split_data(source_large, dest_train_large, dest_test_large, split)\n",
        "split_data(source_small, dest_train_small, dest_test_small, split)"
      ],
      "execution_count": 0,
      "outputs": []
    },
    {
      "cell_type": "code",
      "metadata": {
        "id": "Knd0SNllMPqQ",
        "colab_type": "code",
        "colab": {}
      },
      "source": [
        "print(len(os.listdir(dest_train_large)))\n",
        "print(len(os.listdir(dest_train_small)))\n",
        "print(len(os.listdir(dest_test_large)))\n",
        "print(len(os.listdir(dest_test_small)))"
      ],
      "execution_count": 0,
      "outputs": []
    },
    {
      "cell_type": "code",
      "metadata": {
        "id": "YCiqgyQvSC6f",
        "colab_type": "code",
        "colab": {}
      },
      "source": [
        "train_datagen = tf.keras.preprocessing.image.ImageDataGenerator(rescale=1./255.)\n",
        "test_datagen = tf.keras.preprocessing.image.ImageDataGenerator(rescale=1./255.)\n",
        "\n",
        "training_data = train_datagen.flow_from_directory('/gdrive/My Drive/lunar/DataSet/train/', batch_size=16, class_mode='binary', target_size=(720,480))\n",
        "testing_data = test_datagen.flow_from_directory('/gdrive/My Drive/lunar/DataSet/test/', batch_size=16, class_mode='binary', target_size=(720,480))"
      ],
      "execution_count": 0,
      "outputs": []
    },
    {
      "cell_type": "code",
      "metadata": {
        "id": "goCW9j2GSCcq",
        "colab_type": "code",
        "colab": {}
      },
      "source": [
        "base_vgg19= tf.keras.applications.VGG19(include_top=False, weights='imagenet', input_shape=(720,480,3))\n",
        "base_vgg19.trainable=False"
      ],
      "execution_count": 0,
      "outputs": []
    },
    {
      "cell_type": "code",
      "metadata": {
        "id": "DGuwjpPb9YRm",
        "colab_type": "code",
        "colab": {}
      },
      "source": [
        "base_vgg19.summary()"
      ],
      "execution_count": 0,
      "outputs": []
    },
    {
      "cell_type": "code",
      "metadata": {
        "id": "Lv6Wvzx_AIo4",
        "colab_type": "code",
        "colab": {}
      },
      "source": [
        "features = base_vgg19.output"
      ],
      "execution_count": 0,
      "outputs": []
    },
    {
      "cell_type": "code",
      "metadata": {
        "id": "iTJ9g31_C5j3",
        "colab_type": "code",
        "colab": {}
      },
      "source": [
        "x= tf.keras.layers.Flatten()(features)\n",
        "x= tf.keras.layers.Dense(16, activation='relu')(x)\n",
        "x= tf.keras.layers.Dense(16, activation='relu')(x)\n",
        "x= tf.keras.layers.Dense(16, activation='relu')(x)\n",
        "x= tf.keras.layers.Dense(1, activation='sigmoid')(x) "
      ],
      "execution_count": 0,
      "outputs": []
    },
    {
      "cell_type": "code",
      "metadata": {
        "id": "nBVtpEv79e5k",
        "colab_type": "code",
        "colab": {}
      },
      "source": [
        "model_vgg19= tf.keras.Model(base_vgg19.input, x)"
      ],
      "execution_count": 0,
      "outputs": []
    },
    {
      "cell_type": "code",
      "metadata": {
        "id": "jrruBOLn-G5u",
        "colab_type": "code",
        "colab": {}
      },
      "source": [
        "model_vgg19.summary()"
      ],
      "execution_count": 0,
      "outputs": []
    },
    {
      "cell_type": "code",
      "metadata": {
        "id": "GbBDtMw1-J_r",
        "colab_type": "code",
        "colab": {}
      },
      "source": [
        "model_vgg19.compile(optimizer=tf.keras.optimizers.RMSprop(learning_rate=0.001) , metrics=['accuracy'], loss='binary_crossentropy')"
      ],
      "execution_count": 0,
      "outputs": []
    },
    {
      "cell_type": "code",
      "metadata": {
        "id": "Xvqs-FRG_s2x",
        "colab_type": "code",
        "colab": {}
      },
      "source": [
        "history = model_vgg19.fit(training_data, epochs=10, steps_per_epoch=10, validation_data=testing_data)"
      ],
      "execution_count": 0,
      "outputs": []
    },
    {
      "cell_type": "code",
      "metadata": {
        "id": "UMWHcrzrK0mr",
        "colab_type": "code",
        "colab": {}
      },
      "source": [
        "acc = history.history['accuracy']\n",
        "val_acc = history.history['val_accuracy']\n",
        "\n",
        "loss = history.history['loss']\n",
        "val_loss = history.history['val_loss']\n",
        "\n",
        "plt.figure(figsize=(8, 8))\n",
        "plt.subplot(2, 1, 1)\n",
        "plt.plot(acc, label='Training Accuracy')\n",
        "plt.plot(val_acc, label='Validation Accuracy')\n",
        "plt.legend(loc='lower right')\n",
        "plt.ylabel('Accuracy')\n",
        "plt.ylim([min(plt.ylim()),1])\n",
        "plt.title('Training and Validation Accuracy')\n",
        "\n",
        "plt.subplot(2, 1, 2)\n",
        "plt.plot(loss, label='Training Loss')\n",
        "plt.plot(val_loss, label='Validation Loss')\n",
        "plt.legend(loc='upper right')\n",
        "plt.ylabel('Cross Entropy')\n",
        "plt.ylim([0,1.0])\n",
        "plt.title('Training and Validation Loss')\n",
        "plt.xlabel('epoch')\n",
        "plt.show()"
      ],
      "execution_count": 0,
      "outputs": []
    }
  ]
}
