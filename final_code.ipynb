{
 "cells": [
  {
   "cell_type": "code",
   "execution_count": null,
   "metadata": {
    "colab": {
     "base_uri": "https://localhost:8080/",
     "height": 34
    },
    "colab_type": "code",
    "id": "5fYdsMVWeck7",
    "outputId": "aacdc784-7c4c-4e40-97f3-5eb858835bf0"
   },
   "outputs": [],
   "source": [
    "%tensorflow_version 2.x\n",
    "import tensorflow as tf\n",
    "device_name = tf.test.gpu_device_name()\n",
    "if device_name != '/device:GPU:0':\n",
    "  raise SystemError('GPU device not found')\n",
    "print('Found GPU at: {}'.format(device_name))"
   ]
  },
  {
   "cell_type": "code",
   "execution_count": null,
   "metadata": {
    "colab": {
     "base_uri": "https://localhost:8080/",
     "height": 122
    },
    "colab_type": "code",
    "id": "fdKfjZsm-Y41",
    "outputId": "0c95b6a8-58ff-435b-95c4-3b5cdb2ce8ce"
   },
   "outputs": [],
   "source": [
    "from google.colab import drive\n",
    "drive.mount('/gdrive')"
   ]
  },
  {
   "cell_type": "code",
   "execution_count": null,
   "metadata": {
    "colab": {},
    "colab_type": "code",
    "id": "WR9YAKpEKkeU"
   },
   "outputs": [],
   "source": [
    "import numpy as np\n",
    "import random\n",
    "import os\n",
    "from shutil import copyfile\n",
    "import shutil\n",
    "import matplotlib.pyplot as plt "
   ]
  },
  {
   "cell_type": "code",
   "execution_count": null,
   "metadata": {
    "colab": {
     "base_uri": "https://localhost:8080/",
     "height": 180
    },
    "colab_type": "code",
    "id": "NPF5DcVTNKjM",
    "outputId": "2e7f8b10-0456-412c-88d0-d42d81a103a2"
   },
   "outputs": [],
   "source": [
    "print(len(os.listdir('/gdrive/My Drive/lunar/DataSet/data/Large')))\n",
    "print(len(os.listdir('/gdrive/My Drive/lunar/DataSet/data/Small')))"
   ]
  },
  {
   "cell_type": "code",
   "execution_count": null,
   "metadata": {
    "colab": {},
    "colab_type": "code",
    "id": "cWsfHxtWZOHB"
   },
   "outputs": [],
   "source": [
    "try:\n",
    "  os.mkdir('/gdrive/My Drive/lunar/DataSet/train')\n",
    "  os.mkdir('/gdrive/My Drive/lunar/DataSet/test')\n",
    "  os.mkdir('/gdrive/My Drive/lunar/DataSet/train/large')\n",
    "  os.mkdir('/gdrive/My Drive/lunar/DataSet/train/small')\n",
    "  os.mkdir('/gdrive/My Drive/lunar/DataSet/test/large')\n",
    "  os.mkdir('/gdrive/My Drive/lunar/DataSet/test/small')\n",
    "except:\n",
    "  pass"
   ]
  },
  {
   "cell_type": "code",
   "execution_count": null,
   "metadata": {
    "colab": {},
    "colab_type": "code",
    "id": "ctoR424IaGs_"
   },
   "outputs": [],
   "source": [
    "def split_data(SOURCE, TRAINING, TESTING, SPLIT_SIZE):\n",
    "    files = []\n",
    "    for filename in os.listdir(SOURCE):     \n",
    "        file = SOURCE + filename\n",
    "        if os.path.getsize(file) > 0:\n",
    "            files.append(filename)\n",
    "        else:\n",
    "            print(filename + \" is zero length, so ignoring.\")\n",
    "    training_length = int(len(files) * SPLIT_SIZE)\n",
    "    testing_length = int(len(files) - training_length)\n",
    "    shuffled_set = random.sample(files, len(files))\n",
    "    training_set = shuffled_set[0:training_length]\n",
    "    testing_set = shuffled_set[:testing_length]\n",
    "    for filename in training_set:\n",
    "        this_file = SOURCE + filename\n",
    "        destination = TRAINING + filename\n",
    "        copyfile(this_file, destination)\n",
    "    for filename in testing_set:\n",
    "        this_file = SOURCE + filename\n",
    "        destination = TESTING + filename\n",
    "        copyfile(this_file, destination)"
   ]
  },
  {
   "cell_type": "code",
   "execution_count": null,
   "metadata": {
    "colab": {},
    "colab_type": "code",
    "id": "YwND7Q4OamdV"
   },
   "outputs": [],
   "source": [
    "source_large= '/gdrive/My Drive/lunar/DataSet/data/Large/'\n",
    "source_small= '/gdrive/My Drive/lunar/DataSet/data/Small/'\n",
    "dest_train_large= '/gdrive/My Drive/lunar/DataSet/train/large/'\n",
    "dest_train_small= '/gdrive/My Drive/lunar/DataSet/train/small'\n",
    "dest_test_large= '/gdrive/My Drive/lunar/DataSet/test/large/'\n",
    "dest_test_small= '/gdrive/My Drive/lunar/DataSet/test/small'\n",
    "split= 0.9"
   ]
  },
  {
   "cell_type": "code",
   "execution_count": null,
   "metadata": {
    "colab": {},
    "colab_type": "code",
    "id": "7P0ISZxAcBCI"
   },
   "outputs": [],
   "source": [
    "#split_data(source_large, dest_train_large, dest_test_large, split)\n",
    "#split_data(source_small, dest_train_small, dest_test_small, split)"
   ]
  },
  {
   "cell_type": "code",
   "execution_count": null,
   "metadata": {
    "colab": {
     "base_uri": "https://localhost:8080/",
     "height": 85
    },
    "colab_type": "code",
    "id": "Knd0SNllMPqQ",
    "outputId": "34757396-bb33-45fb-f1a5-92c1b6ab1b0b"
   },
   "outputs": [],
   "source": [
    "print(len(os.listdir(dest_train_large)))\n",
    "print(len(os.listdir(dest_train_small)))\n",
    "print(len(os.listdir(dest_test_large)))\n",
    "print(len(os.listdir(dest_test_small)))"
   ]
  },
  {
   "cell_type": "code",
   "execution_count": null,
   "metadata": {
    "colab": {
     "base_uri": "https://localhost:8080/",
     "height": 51
    },
    "colab_type": "code",
    "id": "YCiqgyQvSC6f",
    "outputId": "bab8d03a-38eb-4dd7-adb1-59089f897b44"
   },
   "outputs": [],
   "source": [
    "train_datagen = tf.keras.preprocessing.image.ImageDataGenerator(rescale=1./255.)\n",
    "test_datagen = tf.keras.preprocessing.image.ImageDataGenerator(rescale=1./255.)\n",
    "\n",
    "training_data = train_datagen.flow_from_directory('/gdrive/My Drive/lunar/DataSet/train/', batch_size=16, class_mode='binary', target_size=(720,480))\n",
    "testing_data = test_datagen.flow_from_directory('/gdrive/My Drive/lunar/DataSet/test/', batch_size=16, class_mode='binary', target_size=(720,480))"
   ]
  },
  {
   "cell_type": "code",
   "execution_count": null,
   "metadata": {
    "colab": {},
    "colab_type": "code",
    "id": "goCW9j2GSCcq"
   },
   "outputs": [],
   "source": [
    "base_vgg19= tf.keras.applications.VGG19(include_top=False, weights=None, input_shape=(720,480,3))\n",
    "base_vgg19.trainable=False"
   ]
  },
  {
   "cell_type": "code",
   "execution_count": null,
   "metadata": {
    "colab": {
     "base_uri": "https://localhost:8080/",
     "height": 901
    },
    "colab_type": "code",
    "id": "DGuwjpPb9YRm",
    "outputId": "5a862c98-6bfc-4376-d49b-1d0d1720ac4d"
   },
   "outputs": [],
   "source": [
    "base_vgg19.summary()"
   ]
  },
  {
   "cell_type": "code",
   "execution_count": null,
   "metadata": {
    "colab": {},
    "colab_type": "code",
    "id": "Lv6Wvzx_AIo4"
   },
   "outputs": [],
   "source": [
    "features = base_vgg19.output"
   ]
  },
  {
   "cell_type": "code",
   "execution_count": null,
   "metadata": {
    "colab": {
     "base_uri": "https://localhost:8080/",
     "height": 34
    },
    "colab_type": "code",
    "id": "4p9HP6mKif1B",
    "outputId": "d422618f-8335-472b-f783-ed7580e87abc"
   },
   "outputs": [],
   "source": [
    "features.shape"
   ]
  },
  {
   "cell_type": "code",
   "execution_count": null,
   "metadata": {
    "colab": {},
    "colab_type": "code",
    "id": "iTJ9g31_C5j3"
   },
   "outputs": [],
   "source": [
    "x= tf.keras.layers.Flatten()(features)\n",
    "x= tf.keras.layers.Dense(16, activation='relu')(x)\n",
    "x= tf.keras.layers.Dense(16, activation='relu')(x)\n",
    "x= tf.keras.layers.Dense(16, activation='relu')(x)\n",
    "x= tf.keras.layers.Dense(1, activation='sigmoid')(x) "
   ]
  },
  {
   "cell_type": "code",
   "execution_count": null,
   "metadata": {
    "colab": {},
    "colab_type": "code",
    "id": "nBVtpEv79e5k"
   },
   "outputs": [],
   "source": [
    "model_vgg19= tf.keras.Model(base_vgg19.input, x)"
   ]
  },
  {
   "cell_type": "code",
   "execution_count": null,
   "metadata": {
    "colab": {
     "base_uri": "https://localhost:8080/",
     "height": 1000
    },
    "colab_type": "code",
    "id": "jrruBOLn-G5u",
    "outputId": "c47c6cee-b16e-43bf-80c1-7c4fe8e73fe0"
   },
   "outputs": [],
   "source": [
    "model_vgg19.summary()"
   ]
  },
  {
   "cell_type": "code",
   "execution_count": null,
   "metadata": {
    "colab": {},
    "colab_type": "code",
    "id": "GbBDtMw1-J_r"
   },
   "outputs": [],
   "source": [
    "model_vgg19.compile(optimizer=tf.keras.optimizers.RMSprop(learning_rate=0.001), \n",
    "                    metrics=['accuracy'], \n",
    "                    loss='binary_crossentropy')"
   ]
  },
  {
   "cell_type": "code",
   "execution_count": null,
   "metadata": {
    "colab": {},
    "colab_type": "code",
    "id": "Xvqs-FRG_s2x"
   },
   "outputs": [],
   "source": [
    "history = model_vgg19.fit(training_data, \n",
    "                          epochs=10, \n",
    "                          steps_per_epoch=10, \n",
    "                          validation_data=testing_data)"
   ]
  },
  {
   "cell_type": "code",
   "execution_count": null,
   "metadata": {},
   "outputs": [],
   "source": [
    "acc = history.history['accuracy']\n",
    "val_acc = history.history['val_accuracy']\n",
    "loss = history.history['loss']\n",
    "val_loss = history.history['val_loss']"
   ]
  },
  {
   "cell_type": "code",
   "execution_count": null,
   "metadata": {
    "colab": {},
    "colab_type": "code",
    "id": "UMWHcrzrK0mr"
   },
   "outputs": [],
   "source": [
    "plt.figure(figsize=(8, 8))\n",
    "plt.subplot(2, 1, 1)\n",
    "plt.plot(acc, label='Training Accuracy')\n",
    "plt.plot(val_acc, label='Validation Accuracy')\n",
    "plt.legend(loc='lower right')\n",
    "plt.ylabel('Accuracy')\n",
    "plt.ylim([min(plt.ylim()),1])\n",
    "plt.title('Training and Validation Accuracy')\n",
    "plt.subplot(2, 1, 2)\n",
    "plt.plot(loss, label='Training Loss')\n",
    "plt.plot(val_loss, label='Validation Loss')\n",
    "plt.legend(loc='upper right')\n",
    "plt.ylabel('Cross Entropy')\n",
    "plt.ylim([0,1.0])\n",
    "plt.title('Training and Validation Loss')\n",
    "plt.xlabel('epoch')\n",
    "plt.show()"
   ]
  }
 ],
 "metadata": {
  "accelerator": "GPU",
  "colab": {
   "collapsed_sections": [],
   "name": "lunar.ipynb",
   "provenance": []
  },
  "kernelspec": {
   "display_name": "Python 3",
   "language": "python",
   "name": "python3"
  },
  "language_info": {
   "codemirror_mode": {
    "name": "ipython",
    "version": 3
   },
   "file_extension": ".py",
   "mimetype": "text/x-python",
   "name": "python",
   "nbconvert_exporter": "python",
   "pygments_lexer": "ipython3",
   "version": "3.7.4"
  }
 },
 "nbformat": 4,
 "nbformat_minor": 1
}
